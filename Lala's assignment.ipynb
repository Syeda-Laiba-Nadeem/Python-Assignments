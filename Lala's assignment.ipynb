{
 "cells": [
  {
   "cell_type": "code",
   "execution_count": 1,
   "id": "6c70e32e",
   "metadata": {},
   "outputs": [
    {
     "name": "stdout",
     "output_type": "stream",
     "text": [
      "Type a fruit name: Apple\n",
      "Type a fruit name: Banana\n",
      "Type a fruit name: Orange\n",
      "Type a fruit name: Pine-Apple\n",
      "Type a fruit name: Peach\n",
      "Type a fruit name: Grapes\n",
      "Type a fruit name: Melon\n",
      "The seven fruits are: ['Apple', 'Banana', 'Orange', 'Pine-Apple', 'Peach', 'Grapes', 'Melon']\n"
     ]
    }
   ],
   "source": [
    "#Program to store seven fruits (by user) in a list:\n",
    "lst = []\n",
    "for fruit in range(7):\n",
    "    fruits = [str(input('Type a fruit name: '))]\n",
    "    for i in fruits:\n",
    "        if i not in lst:\n",
    "            lst.append(i)\n",
    "print('The seven fruits are:' , lst)"
   ]
  },
  {
   "cell_type": "code",
   "execution_count": 3,
   "id": "d343db0d",
   "metadata": {},
   "outputs": [
    {
     "name": "stdout",
     "output_type": "stream",
     "text": [
      "Enter marks of student 1 : 100\n",
      "Enter marks of student 2 : 98\n",
      "Enter marks of student 3 : 89\n",
      "Enter marks of student 4 : 75\n",
      "Enter marks of student 5 : 58\n",
      "Enter marks of student 6 : 64\n",
      "Marks of six students are:  [100, 98, 89, 75, 64, 58]\n"
     ]
    }
   ],
   "source": [
    "#program to accept marks of 6 students and display them in a sorted manner:\n",
    "lim = 1\n",
    "while lim < 6:\n",
    "    marks = []\n",
    "    for x in range(6): \n",
    "        num= [int(input('Enter marks of student ' + str(lim) + ' : '))]\n",
    "        lim +=1\n",
    "        for i in num:\n",
    "            if type(i)==int:\n",
    "                   for i in num:\n",
    "                        marks.append(i)\n",
    "                        marks.sort(reverse=True)\n",
    "                        break;\n",
    "            elif type(i) != int:\n",
    "                  print('please enter your marks without decimal')\n",
    "            else:\n",
    "                 print('invalid input!')\n",
    "                 quit()\n",
    "print('Marks of six students are: ' , marks)"
   ]
  },
  {
   "cell_type": "code",
   "execution_count": 3,
   "id": "1a632bd0",
   "metadata": {},
   "outputs": [
    {
     "name": "stdout",
     "output_type": "stream",
     "text": [
      "100\n"
     ]
    }
   ],
   "source": [
    "#program to sum a list of 4 numbers\n",
    "List = [24 , 48 , 18 , 10]\n",
    "Sum = sum(List)\n",
    "print(Sum)"
   ]
  },
  {
   "cell_type": "code",
   "execution_count": 15,
   "id": "b65483ac",
   "metadata": {},
   "outputs": [
    {
     "name": "stdout",
     "output_type": "stream",
     "text": [
      "Number of zeroes in the tupple is:  3\n"
     ]
    }
   ],
   "source": [
    "#program to count number of zeroes in a tupple\n",
    "a = (7,0,8,0,0,9)\n",
    "b=[]\n",
    "for i in a:\n",
    "    if i==0:\n",
    "        b.append(i)\n",
    "print('Number of zeroes in the tupple is: ' , (len(b)))"
   ]
  },
  {
   "cell_type": "code",
   "execution_count": 19,
   "id": "4ff4dc87",
   "metadata": {},
   "outputs": [
    {
     "name": "stdout",
     "output_type": "stream",
     "text": [
      "('Python', 'Ruby', 'Perl', 'C#', 'Java')\n"
     ]
    }
   ],
   "source": [
    "#program to check tuple is immutable\n",
    "languages = ('Python' , 'Ruby' , 'Perl' , 'C++' , 'Java')\n",
    "lst = list(languages)\n",
    "lst[3]='C#'\n",
    "languages = tuple(lst)\n",
    "print(languages)\n",
    "#tuple cannot be updated that's why,first I changed it to list then updated then converted it to a tuple again.\n",
    "#hence tuple is immutable"
   ]
  },
  {
   "cell_type": "code",
   "execution_count": null,
   "id": "daa5d758",
   "metadata": {},
   "outputs": [],
   "source": []
  }
 ],
 "metadata": {
  "kernelspec": {
   "display_name": "Python 3",
   "language": "python",
   "name": "python3"
  },
  "language_info": {
   "codemirror_mode": {
    "name": "ipython",
    "version": 3
   },
   "file_extension": ".py",
   "mimetype": "text/x-python",
   "name": "python",
   "nbconvert_exporter": "python",
   "pygments_lexer": "ipython3",
   "version": "3.8.8"
  }
 },
 "nbformat": 4,
 "nbformat_minor": 5
}
