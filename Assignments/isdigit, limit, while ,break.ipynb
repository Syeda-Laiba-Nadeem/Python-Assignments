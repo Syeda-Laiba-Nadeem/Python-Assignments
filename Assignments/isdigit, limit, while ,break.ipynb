{
 "cells": [
  {
   "cell_type": "code",
   "execution_count": 7,
   "id": "a1132f7e",
   "metadata": {},
   "outputs": [
    {
     "name": "stdout",
     "output_type": "stream",
     "text": [
      "Enter the Marks of Islamiat out of 50 : 47\n",
      "Enter the Marks of Arabic out of 50 : 47\n",
      "Enter the Marks of Urdu out of 100 : 87\n",
      "Enter the Marks of Math out of 100 : 78\n",
      "Enter the Marks of English out of 100 : 68\n",
      "Total numbers out of 500 are: 327.0\n",
      "Percentage of a student: 65.4%\n",
      "B+ grade\n"
     ]
    }
   ],
   "source": [
    "I = float(input(\"Enter the Marks of Islamiat out of 50 : \"))\n",
    "A = float(input(\"Enter the Marks of Arabic out of 50 : \"))\n",
    "U = float(input(\"Enter the Marks of Urdu out of 100 : \"))\n",
    "M = float(input(\"Enter the Marks of Math out of 100 : \"))\n",
    "E = float(input(\"Enter the Marks of English out of 100 : \"))\n",
    "sum = float(I + A + U + M + E)\n",
    "print(\"Total numbers out of 500 are: \" + str(sum))\n",
    "Percentage = (((I + A + U + M + E)/500) * (100))\n",
    "print (\"Percentage of a student: \" + str(Percentage) + \"%\") \n",
    "\n",
    "if Percentage <=100 and Percentage >=85:\n",
    " print('A+grade')\n",
    "   \n",
    "elif Percentage <=84 and Percentage >=75:\n",
    "  print('Agrade')\n",
    "  \n",
    "elif Percentage <=74 and Percentage >= 65:\n",
    "  print('B+ grade')\n",
    "   \n",
    "elif Percentage <=64 and Percentage >= 55:\n",
    "  print ('B grade')\n",
    " \n",
    "elif Percentage <=54 and Percentage >= 45:\n",
    "  print ('C+ grade')\n",
    " \n",
    "elif Percentage <=44 and Percentage >= 35:\n",
    "  print ('C grade')\n",
    " \n",
    "elif Percentage <=34 and Percentage >= 0:\n",
    "   print( 'Fail')\n",
    "else:\n",
    "   print('Invalid input')"
   ]
  },
  {
   "cell_type": "code",
   "execution_count": 38,
   "id": "d19a7708",
   "metadata": {},
   "outputs": [
    {
     "name": "stdout",
     "output_type": "stream",
     "text": [
      "radius: 1\n",
      "area 3.14\n",
      "want to find area of a circle? Yes/No: no\n",
      "see you next time\n"
     ]
    }
   ],
   "source": [
    "while True:\n",
    "    radius = input('radius: ')\n",
    "    radius=float(radius)\n",
    "    area = 3.14 * radius ** 2\n",
    "    print(f'area {area}')\n",
    "    a= input('want to find area of a circle? Yes/No: ')\n",
    "    if a == 'No' or 'no' or 'NO':\n",
    "        print('see you next time')\n",
    "        break"
   ]
  },
  {
   "cell_type": "code",
   "execution_count": 39,
   "id": "afa7db3d",
   "metadata": {},
   "outputs": [
    {
     "name": "stdout",
     "output_type": "stream",
     "text": [
      "Radius1\n",
      "area 3.14\n"
     ]
    }
   ],
   "source": [
    "radius = float(input('Radius'))\n",
    "area = 3.14 * radius ** 2\n",
    "print(f'area {area}')"
   ]
  },
  {
   "cell_type": "code",
   "execution_count": 7,
   "id": "47c7bcf4",
   "metadata": {},
   "outputs": [
    {
     "name": "stdout",
     "output_type": "stream",
     "text": [
      "enter marks0.00252\n",
      "type number\n",
      "enter marks0\n",
      "enter marks0\n",
      "enter marks0\n",
      "enter marks0\n",
      "\n",
      "sub1 = 0\n",
      "sub2 = 0\n",
      "sub3 = 0\n",
      "sub4 = 0\n",
      "failed\n"
     ]
    }
   ],
   "source": [
    "while True:\n",
    "    try:\n",
    "        sub1 = int(input('enter marks'))\n",
    "        sub2 = int(input('enter marks'))\n",
    "        sub3 = int(input('enter marks'))\n",
    "        sub4 = int(input('enter marks'))\n",
    "        break\n",
    "    except:\n",
    "        print('type number')\n",
    "        continue\n",
    "tot= sub1 + sub2 + sub3 + sub4\n",
    "av = tot/4\n",
    "print (f'''\n",
    "sub1 = {sub1}\n",
    "sub2 = {sub2}\n",
    "sub3 = {sub3}\n",
    "sub4 = {sub4}''')\n",
    "\n",
    "if av < 75:\n",
    "    print('failed')\n",
    "else:\n",
    "    print('passed')"
   ]
  },
  {
   "cell_type": "code",
   "execution_count": 8,
   "id": "2fe1826a",
   "metadata": {},
   "outputs": [
    {
     "name": "stdout",
     "output_type": "stream",
     "text": [
      "type a number25\n",
      "odd\n",
      "type a number65\n",
      "odd\n",
      "type a number46\n",
      "even\n",
      "type a number25\n",
      "odd\n",
      "type a number65\n",
      "odd\n"
     ]
    }
   ],
   "source": [
    "limit = 0\n",
    "while limit < 5:\n",
    "    number=input('type a number')\n",
    "    if number.isdigit():\n",
    "        number = int(number)\n",
    "    else:\n",
    "        print('type a number')\n",
    "        continue\n",
    "    if (number % 2 == 0):\n",
    "        print('even')\n",
    "        limit+=1\n",
    "    else:\n",
    "        print('odd')\n",
    "        limit+=1"
   ]
  },
  {
   "cell_type": "code",
   "execution_count": 7,
   "id": "afc184c8",
   "metadata": {},
   "outputs": [
    {
     "name": "stdout",
     "output_type": "stream",
     "text": [
      "type a number87\n",
      "87 is odd\n"
     ]
    }
   ],
   "source": [
    "number=int(input('type a number'))\n",
    "if (number % 2 == 0):\n",
    "    print('{0} is even'.format(number))\n",
    "else:\n",
    "    print('{0} is odd'.format(number))"
   ]
  },
  {
   "cell_type": "code",
   "execution_count": 23,
   "id": "44644220",
   "metadata": {},
   "outputs": [
    {
     "name": "stdout",
     "output_type": "stream",
     "text": [
      "Please enter mark12\n",
      "Please enter mark3205\n",
      "Please enter mark55\n",
      "Please enter mark32.5\n",
      "Please enter mark55.5\n",
      "Average marks: 672.0 \n"
     ]
    }
   ],
   "source": [
    "mark = 0\n",
    "for x in range(5):\n",
    "   num = float(input(f\"Please enter mark\"))\n",
    "   mark = num + mark\n",
    "avg = mark // 5\n",
    "print(f\"Average marks: {avg} \")\n"
   ]
  },
  {
   "cell_type": "code",
   "execution_count": 24,
   "id": "42c24bfb",
   "metadata": {},
   "outputs": [
    {
     "name": "stdout",
     "output_type": "stream",
     "text": [
      "Please enter a number23\n",
      "Your number is: Odd\n"
     ]
    }
   ],
   "source": [
    "num = int(input(\"Please enter a number\"))\n",
    "number = \"Your number is: Even\" if num % 2 == 0 else\"Your number is: Odd\"\n",
    "print(number)\n"
   ]
  },
  {
   "cell_type": "code",
   "execution_count": 4,
   "id": "109b4e49",
   "metadata": {},
   "outputs": [
    {
     "name": "stdout",
     "output_type": "stream",
     "text": [
      "Enter marks of student 1 : 98\n",
      "Enter marks of student 2 : 85\n",
      "Enter marks of student 3 : 5\n",
      "Enter marks of student 4 : 65\n",
      "Enter marks of student 5 : 56\n",
      "Enter marks of student 6 : 56\n",
      "Marks of six students are:  [98, 85, 65, 56, 56, 5]\n"
     ]
    }
   ],
   "source": [
    "lim = 1\n",
    "while lim < 6:\n",
    "    marks = []\n",
    "    for x in range(6): \n",
    "        num= [int(input('Enter marks of student ' + str(lim) + ' : '))]\n",
    "        lim +=1\n",
    "        for i in num:\n",
    "            if type(i)==int:\n",
    "                   for i in num:\n",
    "                        marks.append(i)\n",
    "                        marks.sort(reverse=True)\n",
    "                        break;\n",
    "            elif type(i) != int:\n",
    "                  print('please enter your marks without decimal')\n",
    "            else:\n",
    "                 print('invalid input!')\n",
    "                 quit()\n",
    "print('Marks of six students are: ' , marks)"
   ]
  },
  {
   "cell_type": "code",
   "execution_count": null,
   "id": "4e0a7de3",
   "metadata": {},
   "outputs": [],
   "source": []
  }
 ],
 "metadata": {
  "kernelspec": {
   "display_name": "Python 3",
   "language": "python",
   "name": "python3"
  },
  "language_info": {
   "codemirror_mode": {
    "name": "ipython",
    "version": 3
   },
   "file_extension": ".py",
   "mimetype": "text/x-python",
   "name": "python",
   "nbconvert_exporter": "python",
   "pygments_lexer": "ipython3",
   "version": "3.8.8"
  }
 },
 "nbformat": 4,
 "nbformat_minor": 5
}
