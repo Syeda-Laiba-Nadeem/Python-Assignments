{
 "cells": [
  {
   "cell_type": "code",
   "execution_count": 2,
   "id": "875136c2",
   "metadata": {},
   "outputs": [
    {
     "name": "stdout",
     "output_type": "stream",
     "text": [
      "list is an order sequence of elements.Each element or value that is inside of a list is called an item.\n",
      "List is mutable(changeable)\n",
      "Lists are used to store related data items where each data item is separated by a comma. \n"
     ]
    }
   ],
   "source": [
    "#lIST\n",
    "print('list is an order sequence of elements.Each element or value that is inside of a list is called an item.')\n",
    "#feature\n",
    "print('List is mutable(changeable)')\n",
    "#use\n",
    "print('Lists are used to store related data items where each data item is separated by a comma. ')"
   ]
  },
  {
   "cell_type": "code",
   "execution_count": 14,
   "id": "8ce5aa75",
   "metadata": {},
   "outputs": [
    {
     "name": "stdout",
     "output_type": "stream",
     "text": [
      "['Harry Potter', 'Matilda', 'The Jungle Book']\n"
     ]
    }
   ],
   "source": [
    "#Each item of list has its own index number starting from 0.\n",
    "#List can be easily identified by square brackets [ ].\n",
    "#syntax:\n",
    "Books = ['Harry Potter' , 'Matilda' , 'The Jungle Book'  ]\n",
    "print(Books)"
   ]
  },
  {
   "cell_type": "code",
   "execution_count": 24,
   "id": "b805553d",
   "metadata": {},
   "outputs": [
    {
     "name": "stdout",
     "output_type": "stream",
     "text": [
      "['Harry Potter', 'Matilda', 'The Jungle Book']\n",
      "['Harry Potter', 'Matilda', 'The Jungle Book', 'Charlie and the chocolate factory']\n"
     ]
    }
   ],
   "source": [
    "#How add items to the list\n",
    "Books = ['Harry Potter' , 'Matilda' , 'The Jungle Book' ]\n",
    "print(Books)\n",
    "Books.append('Charlie and the chocolate factory')\n",
    "print(Books)"
   ]
  },
  {
   "cell_type": "code",
   "execution_count": 29,
   "id": "00ae557e",
   "metadata": {},
   "outputs": [
    {
     "name": "stdout",
     "output_type": "stream",
     "text": [
      "['Harry Potter', 'Matilda', 'The Jungle Book', 'Charlie and the chocolate factory']\n",
      "['The Sense of an Ending', 'Harry Potter', 'Matilda', 'The Jungle Book', 'Charlie and the chocolate factory']\n"
     ]
    }
   ],
   "source": [
    "#How add items to the specific index\n",
    "Books = ['Harry Potter' , 'Matilda' , 'The Jungle Book' ]\n",
    "Books.append('Charlie and the chocolate factory')\n",
    "print(Books)\n",
    "Books.insert(0,'The Sense of an Ending')\n",
    "print(Books)"
   ]
  },
  {
   "cell_type": "code",
   "execution_count": 32,
   "id": "46420a1e",
   "metadata": {},
   "outputs": [
    {
     "data": {
      "text/plain": [
       "['Harry Potter', 'Matilda', 'The Jungle Book']"
      ]
     },
     "execution_count": 32,
     "metadata": {},
     "output_type": "execute_result"
    }
   ],
   "source": [
    "#add items to an empty list\n",
    "Books = []\n",
    "Books = Books + ['Harry Potter' , 'Matilda' , 'The Jungle Book' ]\n",
    "Books"
   ]
  },
  {
   "cell_type": "code",
   "execution_count": 33,
   "id": "4b9f85d4",
   "metadata": {},
   "outputs": [
    {
     "name": "stdout",
     "output_type": "stream",
     "text": [
      "['Harry Potter', 'Matilda', 'The Jungle Book']\n",
      "['The Sense of an Ending', 'Matilda', 'The Jungle Book']\n"
     ]
    }
   ],
   "source": [
    "#How to change item of a list\n",
    "Books = ['Harry Potter' , 'Matilda' , 'The Jungle Book' ]\n",
    "print(Books)\n",
    "Books[0] = 'The Sense of an Ending'\n",
    "print(Books)"
   ]
  },
  {
   "cell_type": "code",
   "execution_count": 40,
   "id": "9ee06499",
   "metadata": {},
   "outputs": [
    {
     "name": "stdout",
     "output_type": "stream",
     "text": [
      "['Harry Potter', 'Matilda', 'The Jungle Book', 'The Sense of an Ending', 'Charlie and the chocolate factory']\n",
      "['Matilda', 'The Jungle Book', 'The Sense of an Ending']\n",
      "['Matilda', 'The Jungle Book', 'The Sense of an Ending', 'Charlie and the chocolate factory']\n",
      "['Harry Potter', 'Matilda', 'The Jungle Book', 'The Sense of an Ending']\n"
     ]
    }
   ],
   "source": [
    "#Taking slices\n",
    "Books = ['Harry Potter' , 'Matilda' , 'The Jungle Book','The Sense of an Ending', 'Charlie and the chocolate factory']\n",
    "print(Books)\n",
    "Sub = Books[1:4]\n",
    "print(Sub)\n",
    "Sub1 = Books[1:]\n",
    "print(Sub1)\n",
    "Sub2 = Books[:4]\n",
    "print(Sub2)"
   ]
  },
  {
   "cell_type": "code",
   "execution_count": 43,
   "id": "7493a72a",
   "metadata": {},
   "outputs": [
    {
     "name": "stdout",
     "output_type": "stream",
     "text": [
      "['Harry Potter', 'Matilda', 'The Jungle Book', 'The Sense of an Ending', 'Charlie and the chocolate factory']\n",
      "['Harry Potter', 'Matilda', 'The Sense of an Ending', 'Charlie and the chocolate factory']\n",
      "['Harry Potter', 'The Sense of an Ending', 'Charlie and the chocolate factory']\n"
     ]
    }
   ],
   "source": [
    "#Deleting items of a list\n",
    "Books = ['Harry Potter' , 'Matilda' , 'The Jungle Book','The Sense of an Ending', 'Charlie and the chocolate factory']\n",
    "print(Books)\n",
    "del Books[2]\n",
    "print(Books)\n",
    "Books.remove('Matilda')\n",
    "print(Books)"
   ]
  },
  {
   "cell_type": "code",
   "execution_count": 45,
   "id": "378019b5",
   "metadata": {},
   "outputs": [
    {
     "name": "stdout",
     "output_type": "stream",
     "text": [
      "['Harry Potter', 'Matilda', 'The Jungle Book', 'The Sense of an Ending', 'Charlie and the chocolate factory']\n"
     ]
    },
    {
     "data": {
      "text/plain": [
       "'Charlie and the chocolate factory'"
      ]
     },
     "execution_count": 45,
     "metadata": {},
     "output_type": "execute_result"
    }
   ],
   "source": [
    "# pop an element off a list \n",
    "Books = ['Harry Potter' , 'Matilda' , 'The Jungle Book','The Sense of an Ending', 'Charlie and the chocolate factory']\n",
    "print(Books)\n",
    "Books.pop()"
   ]
  },
  {
   "cell_type": "code",
   "execution_count": null,
   "id": "467a0130",
   "metadata": {},
   "outputs": [],
   "source": [
    "#Don't forget to read the book!"
   ]
  }
 ],
 "metadata": {
  "kernelspec": {
   "display_name": "Python 3",
   "language": "python",
   "name": "python3"
  },
  "language_info": {
   "codemirror_mode": {
    "name": "ipython",
    "version": 3
   },
   "file_extension": ".py",
   "mimetype": "text/x-python",
   "name": "python",
   "nbconvert_exporter": "python",
   "pygments_lexer": "ipython3",
   "version": "3.8.8"
  }
 },
 "nbformat": 4,
 "nbformat_minor": 5
}
