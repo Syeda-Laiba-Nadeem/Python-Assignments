{
 "cells": [
  {
   "cell_type": "code",
   "execution_count": 1,
   "id": "ea3b38c3",
   "metadata": {},
   "outputs": [
    {
     "name": "stdout",
     "output_type": "stream",
     "text": [
      "Twinkle, twinkle, little star,\n",
      "    How I wonder what you are!\n",
      "        Up above the world so high,\n",
      "        Like a diamond in the sky.\n",
      "Twinkle, twinkle, little star,\n",
      "    How I wonder what you are\n"
     ]
    }
   ],
   "source": [
    "        a = \"\"\"Twinkle, twinkle, little star,\n",
    "    How I wonder what you are!\n",
    "                Up above the world so high,\n",
    "                Like a diamond in the sky.\n",
    "Twinkle, twinkle, little star,\n",
    "    How I wonder what you are\"\"\"\n",
    "print(a)"
   ]
  },
  {
   "cell_type": "code",
   "execution_count": 2,
   "id": "fd02c584",
   "metadata": {},
   "outputs": [
    {
     "name": "stdout",
     "output_type": "stream",
     "text": [
      "The Version you are currently using is:\n",
      "3.8.8 (default, Apr 13 2021, 15:08:03) [MSC v.1916 64 bit (AMD64)]\n"
     ]
    }
   ],
   "source": [
    "import sys\n",
    "print(\"The Version you are currently using is:\")\n",
    "print (sys.version)"
   ]
  },
  {
   "cell_type": "code",
   "execution_count": 3,
   "id": "9233352b",
   "metadata": {},
   "outputs": [
    {
     "name": "stdout",
     "output_type": "stream",
     "text": [
      "Current date is:\n",
      "24-10-21\n",
      "Current time is:\n",
      "02-20-59\n"
     ]
    }
   ],
   "source": [
    "import datetime\n",
    "now = datetime.datetime.now()\n",
    "print(\"Current date is:\")\n",
    "print(now.strftime(\"%d-%m-%y\"))\n",
    "print(\"Current time is:\")\n",
    "print(now.strftime(\"%H-%M-%S\"))"
   ]
  },
  {
   "cell_type": "code",
   "execution_count": 4,
   "id": "78d12e5f",
   "metadata": {},
   "outputs": [
    {
     "name": "stdout",
     "output_type": "stream",
     "text": [
      "Input the radius of the circle : 2\n",
      "The area of the circle with radius 2.0 is: 12.566370614359172\n"
     ]
    }
   ],
   "source": [
    "from math import pi\n",
    "r = float(input (\"Input the radius of the circle : \"))\n",
    "print (\"The area of the circle with radius \" + str(r) + \" is: \" + str(pi * r**2))"
   ]
  },
  {
   "cell_type": "code",
   "execution_count": 7,
   "id": "ae3895f3",
   "metadata": {},
   "outputs": [
    {
     "name": "stdout",
     "output_type": "stream",
     "text": [
      "Type your First name: 02\n",
      "Type your Last name: 20\n",
      "Hello 20 02\n"
     ]
    }
   ],
   "source": [
    "firstName = str(input (\"Type your First name: \"))\n",
    "lastName = str(input (\"Type your Last name: \"))\n",
    "print (\"Hello \" + lastName + \" \" + firstName)"
   ]
  },
  {
   "cell_type": "code",
   "execution_count": 8,
   "id": "98fd892d",
   "metadata": {},
   "outputs": [
    {
     "name": "stdout",
     "output_type": "stream",
     "text": [
      "First number: 25\n",
      "Second number: 55\n",
      "The answer is: 25.0 + 55.0 = 25.055.0\n"
     ]
    }
   ],
   "source": [
    "no1 = float(input(\"First number: \"))\n",
    "no2 = float(input(\"Second number: \"))\n",
    "ans = str(no1) + str(no2)\n",
    "print (\"The answer is: \" + str(no1) + \" \" + \"+\" + \" \" + str(no2) + \" \" + \"=\" + \" \" + ans)"
   ]
  },
  {
   "cell_type": "code",
   "execution_count": 1,
   "id": "a5d598f9",
   "metadata": {},
   "outputs": [
    {
     "name": "stdout",
     "output_type": "stream",
     "text": [
      "Islamiat:\n",
      "Marks: 80\n",
      "Grade: A+\n",
      "\n",
      "Urdu:\n",
      "Marks: 100\n",
      "Grade: A+\n",
      "\n",
      "Maths:\n",
      "Marks: 100\n",
      "Grade: A+\n",
      "\n",
      "English:\n",
      "Marks: 95\n",
      "Grade: A+\n",
      "\n",
      "Science:\n",
      "Marks: 85\n",
      "Grade: A+\n",
      "\n",
      "Total Marks: 500\n",
      "Obtained Marks: 460.0\n",
      "Percentage: 92.0\n",
      "Grade: A+\n"
     ]
    }
   ],
   "source": [
    "print(\"Islamiat:\")\n",
    "markOne = float(input(\"Marks: \"))\n",
    "if markOne <= 100 and markOne > 79:\n",
    "    print(\"Grade: A+\\n\");\n",
    "elif markOne <= 79 and markOne > 69:\n",
    "    print(\"Grade: A\\n\");\n",
    "elif markOne <= 69 and markOne > 59:\n",
    "    print(\"Grade: B\\n\");\n",
    "elif markOne <= 59 and markOne > 49:\n",
    "    print(\"Grade: C\\n\");\n",
    "elif markOne <= 49 and markOne > 39:\n",
    "    print(\"Grade: D\\n\");\n",
    "elif markOne <= 39 and markOne > 32:\n",
    "    print(\"Grade: E\\n\");\n",
    "elif markOne <= 33 and markOne > 0:\n",
    "    print(\"FAILED\\n\")\n",
    "else:\n",
    "    print(\"Invalid Input!\\n\")\n",
    "    \n",
    "print(\"Urdu:\")\n",
    "markTwo = float(input(\"Marks: \"))\n",
    "if markTwo <= 100 and markTwo> 79:\n",
    "    print(\"Grade: A+\\n\");\n",
    "elif markTwo <= 79 and markTwo > 69:\n",
    "    print(\"Grade: A\\n\");\n",
    "elif markTwo <= 69 and markTwo > 59:\n",
    "    print(\"Grade: B\\n\");\n",
    "elif markTwo <= 59 and markTwo > 49:\n",
    "    print(\"Grade: C\\n\");\n",
    "elif markTwo <= 49 and markTwo > 39:\n",
    "    print(\"Grade: D\\n\");\n",
    "elif markTwo <= 39 and markTwo > 32:\n",
    "    print(\"Grade: E\\n\");\n",
    "elif markTwo <= 33 and markTwo > 0:\n",
    "    print(\"FAILED\\n\")\n",
    "else:\n",
    "    print(\"Invalid Input!\\n\")\n",
    "    \n",
    "print(\"Maths:\")\n",
    "markThree = float(input(\"Marks: \"))\n",
    "if markThree <= 100 and markThree > 79:\n",
    "    print(\"Grade: A+\\n\");\n",
    "elif markThree <= 79 and markThree > 69:\n",
    "    print(\"Grade: A\\n\");\n",
    "elif markThree <= 69 and markThree > 59:\n",
    "    print(\"Grade: B\\n\");\n",
    "elif markThree <= 59 and markThree > 49:\n",
    "    print(\"Grade: C\\n\");\n",
    "elif markThree <= 49 and markThree > 39:\n",
    "    print(\"Grade: D\\n\");\n",
    "elif markThree <= 39 and markThree > 32:\n",
    "    print(\"Grade: E\\n\");\n",
    "elif markThree <= 33 and markThree > 0:\n",
    "    print(\"FAILED\\n\")\n",
    "else:\n",
    "    print(\"Invalid Input!\\n\")\n",
    "\n",
    "print(\"English:\")\n",
    "markFour = float(input(\"Marks: \"))\n",
    "if markFour <= 100 and markFour > 79:\n",
    "    print(\"Grade: A+\\n\");\n",
    "elif markFour <= 79 and markFour > 69:\n",
    "    print(\"Grade: A\\n\");\n",
    "elif markFour <= 69 and markFour > 59:\n",
    "    print(\"Grade: B\\n\");\n",
    "elif markFour <= 59 and markFour > 49:\n",
    "    print(\"Grade: C\\n\");\n",
    "elif markFour <= 49 and markFour > 39:\n",
    "    print(\"Grade: D\\n\");\n",
    "elif markFour <= 39 and markFour > 32:\n",
    "    print(\"Grade: E\\n\");\n",
    "elif markFour <= 33 and markFour > 0:\n",
    "    print(\"FAILED\\n\")\n",
    "else:\n",
    "    print(\"Invalid Input!\\n\")\n",
    "    \n",
    "print(\"Science:\")\n",
    "markFive = float(input(\"Marks: \"))\n",
    "if markFive <= 100 and markFive > 79:\n",
    "    print(\"Grade: A+\\n\");\n",
    "elif markFive <= 79 and markFive > 69:\n",
    "    print(\"Grade: A\\n\");\n",
    "elif markFive <= 69 and markFive > 59:\n",
    "    print(\"Grade: B\\n\");\n",
    "elif markFive <= 59 and markFive > 49:\n",
    "    print(\"Grade: C\\n\");\n",
    "elif markFive <= 49 and markFive > 39:\n",
    "    print(\"Grade: D\\n\");\n",
    "elif markFive <= 39 and markFive > 32:\n",
    "    print(\"Grade: E\\n\");\n",
    "elif markFive <= 33 and markFive > 0:\n",
    "    print(\"FAILED\\n\")\n",
    "else:\n",
    "    print(\"Invalid Input!\\n\")\n",
    "obt = markOne + markTwo + markThree + markFour + markFive;\n",
    "per = (obt / 500) * (100);\n",
    "\n",
    "print(\"Total Marks: \" + \"500\");\n",
    "print(\"Obtained Marks: \" + str(obt));\n",
    "print(\"Percentage: \" + str(per));\n",
    "if per <= 100 and per > 79:\n",
    "    print(\"Grade: A+\");\n",
    "elif per <= 79 and per > 69:\n",
    "    print(\"Grade: A\");\n",
    "elif per <= 69 and per > 59:\n",
    "    print(\"Grade: B\");\n",
    "elif per <= 59 and per > 49:\n",
    "    print(\"Grade: C\");\n",
    "elif per <= 49 and per > 39:\n",
    "    print(\"Grade: D\");\n",
    "elif per <= 39 and per > 33:\n",
    "    print(\"Grade: E\");\n",
    "elif per <= 33 and per > 0:\n",
    "    print(\"FAILED\")\n",
    "else:\n",
    "    print(\"Invalid Input!\")"
   ]
  },
  {
   "cell_type": "code",
   "execution_count": 4,
   "id": "e0082f27",
   "metadata": {},
   "outputs": [
    {
     "name": "stdout",
     "output_type": "stream",
     "text": [
      "The number you want to identify is:120\n",
      "This is an even number.\n"
     ]
    }
   ],
   "source": [
    "num = int(input(\"The number you want to identify is:\"))\n",
    "mod = num % 2\n",
    "if mod > 0:\n",
    "    print(\"This is an odd number.\")\n",
    "else:\n",
    "    print(\"This is an even number.\")"
   ]
  },
  {
   "cell_type": "code",
   "execution_count": 9,
   "id": "8846076c",
   "metadata": {},
   "outputs": [
    {
     "name": "stdout",
     "output_type": "stream",
     "text": [
      "The length of the list is 5\n"
     ]
    }
   ],
   "source": [
    "lst = [\"apple\", \"banana\", \"orange\" , \"grapes\" , \"pineapple\"]\n",
    "print(\"The length of the list is \" + str(len(lst)))"
   ]
  },
  {
   "cell_type": "code",
   "execution_count": 13,
   "id": "22b35bcf",
   "metadata": {},
   "outputs": [
    {
     "name": "stdout",
     "output_type": "stream",
     "text": [
      "100\n"
     ]
    }
   ],
   "source": [
    "def sum_list(items):\n",
    "    sum_numbers = 0\n",
    "    for x in items:\n",
    "        sum_numbers += x\n",
    "    return sum_numbers\n",
    "print(sum_list([1,2,-8,105]))\n"
   ]
  },
  {
   "cell_type": "code",
   "execution_count": 16,
   "id": "ea061070",
   "metadata": {},
   "outputs": [
    {
     "name": "stdout",
     "output_type": "stream",
     "text": [
      "100\n"
     ]
    }
   ],
   "source": [
    "lst = [20, 50, 100, 65, 82, 23]\n",
    "lst.sort(reverse = True)\n",
    "print(lst[0])"
   ]
  },
  {
   "cell_type": "code",
   "execution_count": 18,
   "id": "a09ec685",
   "metadata": {},
   "outputs": [
    {
     "name": "stdout",
     "output_type": "stream",
     "text": [
      "1\n",
      "1\n",
      "2\n",
      "3\n"
     ]
    }
   ],
   "source": [
    "x = [1, 1, 2, 3, 5, 8, 13, 21, 34, 55, 89]\n",
    "\n",
    "for l in x:\n",
    "\n",
    "    if l < 5:\n",
    "\n",
    "        print(l)"
   ]
  },
  {
   "cell_type": "code",
   "execution_count": 19,
   "id": "f0731202",
   "metadata": {},
   "outputs": [
    {
     "name": "stdout",
     "output_type": "stream",
     "text": [
      "Task Completed\n"
     ]
    }
   ],
   "source": [
    "print(\"Task Completed\")"
   ]
  }
 ],
 "metadata": {
  "celltoolbar": "Raw Cell Format",
  "kernelspec": {
   "display_name": "Python 3",
   "language": "python",
   "name": "python3"
  },
  "language_info": {
   "codemirror_mode": {
    "name": "ipython",
    "version": 3
   },
   "file_extension": ".py",
   "mimetype": "text/x-python",
   "name": "python",
   "nbconvert_exporter": "python",
   "pygments_lexer": "ipython3",
   "version": "3.8.8"
  }
 },
 "nbformat": 4,
 "nbformat_minor": 5
}
