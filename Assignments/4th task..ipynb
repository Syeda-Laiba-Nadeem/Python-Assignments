{
 "cells": [
  {
   "cell_type": "code",
   "execution_count": 109,
   "id": "7aa5b502",
   "metadata": {},
   "outputs": [
    {
     "name": "stdout",
     "output_type": "stream",
     "text": [
      "[12, 25, 50]\n"
     ]
    }
   ],
   "source": [
    "#Write a program to check if there is any numeric value in list using for loop.\n",
    "a = [ 12 , 'apples' , 'oranges' , 25 , 50 , 'mangoes' ]\n",
    "b = []\n",
    "for i in a:\n",
    "    if type(i)==int:\n",
    "        b.append(i)\n",
    "print(b)\n"
   ]
  },
  {
   "cell_type": "code",
   "execution_count": 105,
   "id": "c9cf2ebf",
   "metadata": {},
   "outputs": [
    {
     "name": "stdout",
     "output_type": "stream",
     "text": [
      "[100, 500, 300, -40]\n"
     ]
    }
   ],
   "source": [
    "#Write a program to identify duplicate values from list.\n",
    "def Repeat(x):\n",
    "    _size = len(x)\n",
    "    repeated = []\n",
    "    for i in range(_size):\n",
    "        k = i + 1\n",
    "        for j in range(k, _size):\n",
    "            if x[i] == x[j] and x[i] not in repeated:\n",
    "                repeated.append(x[i])\n",
    "    return repeated\n",
    " \n",
    "list1 = [100, 500, 300, 100, 200, 300, 400,\n",
    " 700, -40, 500, 60, -40, -20]\n",
    "print (Repeat(list1))"
   ]
  },
  {
   "cell_type": "code",
   "execution_count": 108,
   "id": "c7f67d98",
   "metadata": {},
   "outputs": [
    {
     "name": "stdout",
     "output_type": "stream",
     "text": [
      "{0: 'abc', 1: 'def'}\n",
      "{0: 'abc', 1: 'def', 2: 'ghi'}\n"
     ]
    }
   ],
   "source": [
    "#Write a Python script to add a key to a dictionary.\n",
    "d = {0 : 'abc' , 1 : 'def'}\n",
    "print(d)\n",
    "d.update({2 : 'ghi'})\n",
    "print(d)"
   ]
  },
  {
   "cell_type": "code",
   "execution_count": 110,
   "id": "12c02766",
   "metadata": {},
   "outputs": [
    {
     "name": "stdout",
     "output_type": "stream",
     "text": [
      "The sum of the dict_values([27, 21, -14]) is 34\n"
     ]
    }
   ],
   "source": [
    "#Write a Python program to sum all the numeric items in a dictionary.\n",
    "sumDict = { 'a' : 27 , 'b' : 21 , 'c' : -14 } \n",
    "a=(sum(sumDict.values()))\n",
    "b=sumDict.values()\n",
    "print( \"The sum of the \" + str(b) + \" is \" + str(a))"
   ]
  },
  {
   "cell_type": "code",
   "execution_count": 113,
   "id": "e9e0a48e",
   "metadata": {},
   "outputs": [
    {
     "name": "stdout",
     "output_type": "stream",
     "text": [
      "Enter a key7\n",
      "Key is not present in the dictionary\n"
     ]
    }
   ],
   "source": [
    "d = {1: 10, 2: 20, 3: 30, 4: 40, 5: 50, 6: 60}\n",
    "def key(x):\n",
    "  if x in d:\n",
    "      print('Key is present in the dictionary')\n",
    "  else:\n",
    "      print('Key is not present in the dictionary')\n",
    "key(int(input('Enter a key')))\n"
   ]
  },
  {
   "cell_type": "code",
   "execution_count": null,
   "id": "819dfc3f",
   "metadata": {},
   "outputs": [
    {
     "name": "stdout",
     "output_type": "stream",
     "text": [
      "Select operation.\n",
      "1.Add\n",
      "2.Subtract\n",
      "3.Multiply\n",
      "4.Divide\n",
      "Enter choice(1/2/3/4): 5\n",
      "Invalid Input\n",
      "Enter choice(1/2/3/4): 6\n",
      "Invalid Input\n",
      "Enter choice(1/2/3/4): 5\n",
      "Invalid Input\n",
      "Enter choice(1/2/3/4): 4\n",
      "Enter first number: 2\n",
      "Enter second number: 8\n",
      "2.0 / 8.0 = 0.25\n",
      "Let's do next calculation? (yes/no): yes\n",
      "Enter choice(1/2/3/4): 1\n",
      "Enter first number: 22\n",
      "Enter second number: 45\n",
      "22.0 + 45.0 = 67.0\n"
     ]
    }
   ],
   "source": [
    "#Make a calculator using Python\n",
    "def add(x, y):\n",
    "    return x + y\n",
    "\n",
    "def subtract(x, y):\n",
    "    return x - y\n",
    "\n",
    "def multiply(x, y):\n",
    "    return x * y\n",
    "\n",
    "def divide(x, y):\n",
    "    return x / y\n",
    "\n",
    "\n",
    "print(\"Select operation.\")\n",
    "print(\"1.Add\")\n",
    "print(\"2.Subtract\")\n",
    "print(\"3.Multiply\")\n",
    "print(\"4.Divide\")\n",
    "\n",
    "while True:\n",
    "    choice = input(\"Enter choice(1/2/3/4): \")\n",
    "\n",
    "    if choice in ('1', '2', '3', '4'):\n",
    "        num1 = float(input(\"Enter first number: \"))\n",
    "        num2 = float(input(\"Enter second number: \"))\n",
    "        if choice not in ('1', '2', '3', '4'):\n",
    "            print('you entered an invalid number')\n",
    "        if choice == '1':\n",
    "            print(num1, \"+\", num2, \"=\", add(num1, num2))\n",
    "\n",
    "        elif choice == '2':\n",
    "            print(num1, \"-\", num2, \"=\", subtract(num1, num2))\n",
    "\n",
    "        elif choice == '3':\n",
    "            print(num1, \"*\", num2, \"=\", multiply(num1, num2))\n",
    "\n",
    "        elif choice == '4':\n",
    "            print(num1, \"/\", num2, \"=\", divide(num1, num2))\n",
    "        \n",
    "        next_calculation = input(\"Let's do next calculation? (yes/no): \")\n",
    "        if next_calculation == \"no\":\n",
    "          break\n",
    "    \n",
    "    else:\n",
    "        print(\"Invalid Input\")"
   ]
  },
  {
   "cell_type": "code",
   "execution_count": null,
   "id": "352371bb",
   "metadata": {},
   "outputs": [],
   "source": []
  },
  {
   "cell_type": "code",
   "execution_count": null,
   "id": "4c5019d2",
   "metadata": {},
   "outputs": [],
   "source": []
  }
 ],
 "metadata": {
  "kernelspec": {
   "display_name": "Python 3",
   "language": "python",
   "name": "python3"
  },
  "language_info": {
   "codemirror_mode": {
    "name": "ipython",
    "version": 3
   },
   "file_extension": ".py",
   "mimetype": "text/x-python",
   "name": "python",
   "nbconvert_exporter": "python",
   "pygments_lexer": "ipython3",
   "version": "3.8.8"
  }
 },
 "nbformat": 4,
 "nbformat_minor": 5
}
