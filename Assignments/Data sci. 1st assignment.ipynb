{
 "cells": [
  {
   "cell_type": "code",
   "execution_count": 1,
   "id": "ecd3929b",
   "metadata": {},
   "outputs": [
    {
     "name": "stdout",
     "output_type": "stream",
     "text": [
      "Twinkle, twinkle, little star,\n",
      "\t How I wonder what you are!\n",
      "\t \t Up above the world so high,\n",
      "\t \t Like a diamond in the sky.\n",
      "Twinkle, twinkle, little star,\n",
      "\t How I wonder what you are\n"
     ]
    }
   ],
   "source": [
    "print('''Twinkle, twinkle, little star,\n",
    "\\t How I wonder what you are!\n",
    "\\t \\t Up above the world so high,\n",
    "\\t \\t Like a diamond in the sky.\n",
    "Twinkle, twinkle, little star,\n",
    "\\t How I wonder what you are''')"
   ]
  },
  {
   "cell_type": "code",
   "execution_count": 2,
   "id": "e20aa940",
   "metadata": {},
   "outputs": [
    {
     "name": "stdout",
     "output_type": "stream",
     "text": [
      "The Version you are currently using is:\n",
      "3.8.8 (default, Apr 13 2021, 15:08:03) [MSC v.1916 64 bit (AMD64)]\n"
     ]
    }
   ],
   "source": [
    "import sys\n",
    "print(\"The Version you are currently using is:\")\n",
    "print (sys.version)"
   ]
  },
  {
   "cell_type": "code",
   "execution_count": 3,
   "id": "6bb0f1d2",
   "metadata": {},
   "outputs": [
    {
     "name": "stdout",
     "output_type": "stream",
     "text": [
      "Current date is:\n",
      "30-12-21\n",
      "Current time is:\n",
      "22-41-14\n"
     ]
    }
   ],
   "source": [
    "import datetime\n",
    "now = datetime.datetime.now()\n",
    "print(\"Current date is:\")\n",
    "print(now.strftime(\"%d-%m-%y\"))\n",
    "print(\"Current time is:\")\n",
    "print(now.strftime(\"%H-%M-%S\"))"
   ]
  },
  {
   "cell_type": "code",
   "execution_count": 5,
   "id": "df7cc7fb",
   "metadata": {},
   "outputs": [
    {
     "name": "stdout",
     "output_type": "stream",
     "text": [
      "Input the radius of the circle : 03.22\n",
      "The area of the circle with radius 3.22 is: 32.57328926948041\n"
     ]
    }
   ],
   "source": [
    "from math import pi\n",
    "r = float(input (\"Input the radius of the circle : \"))\n",
    "print (\"The area of the circle with radius \" + str(r) + \" is: \" + str(pi * r**2))"
   ]
  },
  {
   "cell_type": "code",
   "execution_count": 7,
   "id": "db918d38",
   "metadata": {},
   "outputs": [
    {
     "name": "stdout",
     "output_type": "stream",
     "text": [
      "Type your First name: Nadeem\n",
      "Type your Last name: Akhter\n",
      "Hello Akhter Nadeem\n"
     ]
    }
   ],
   "source": [
    "firstName = str(input (\"Type your First name: \"))\n",
    "lastName = str(input (\"Type your Last name: \"))\n",
    "print (\"Hello \" + lastName + \" \" + firstName)"
   ]
  },
  {
   "cell_type": "code",
   "execution_count": 19,
   "id": "d17655f2",
   "metadata": {},
   "outputs": [
    {
     "name": "stdout",
     "output_type": "stream",
     "text": [
      "Type a number: 02\n",
      "Type a second number: 61\n",
      "The answer is: 2.0 + 61.0 = 2.061.0\n"
     ]
    }
   ],
   "source": [
    "no1 = float(input(\"Type a number: \"))\n",
    "no2 = float(input(\"Type a second number: \"))\n",
    "ans = str(no1) + str(no2)\n",
    "if no1 == float or int  and no2 == float or int:\n",
    "    print (\"The answer is: \" + str(no1) + \" \" + \"+\" + \" \" + str(no2) + \" \" + \"=\" + \" \" + ans)\n",
    "else:\n",
    "    print('type a number please')"
   ]
  },
  {
   "cell_type": "code",
   "execution_count": null,
   "id": "5c5928f9",
   "metadata": {},
   "outputs": [],
   "source": []
  }
 ],
 "metadata": {
  "kernelspec": {
   "display_name": "Python 3",
   "language": "python",
   "name": "python3"
  },
  "language_info": {
   "codemirror_mode": {
    "name": "ipython",
    "version": 3
   },
   "file_extension": ".py",
   "mimetype": "text/x-python",
   "name": "python",
   "nbconvert_exporter": "python",
   "pygments_lexer": "ipython3",
   "version": "3.8.8"
  }
 },
 "nbformat": 4,
 "nbformat_minor": 5
}
