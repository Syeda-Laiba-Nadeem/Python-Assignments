{
 "cells": [
  {
   "cell_type": "code",
   "execution_count": 1,
   "id": "c88335fb",
   "metadata": {},
   "outputs": [
    {
     "name": "stdout",
     "output_type": "stream",
     "text": [
      "start coding\n"
     ]
    }
   ],
   "source": [
    "print(\"start coding\")"
   ]
  },
  {
   "cell_type": "code",
   "execution_count": 2,
   "id": "0c02461a",
   "metadata": {},
   "outputs": [
    {
     "name": "stdout",
     "output_type": "stream",
     "text": [
      "1\n",
      "3\n",
      "5\n",
      "7\n",
      "9\n"
     ]
    }
   ],
   "source": [
    "for i in range(10):\n",
    "       if i%2==1:\n",
    "        print(i)"
   ]
  },
  {
   "cell_type": "code",
   "execution_count": 6,
   "id": "b19f45a2",
   "metadata": {},
   "outputs": [
    {
     "name": "stdout",
     "output_type": "stream",
     "text": [
      "1\n",
      "3\n",
      "5\n",
      "7\n",
      "9\n"
     ]
    }
   ],
   "source": [
    "for i in range(1,10,2):\n",
    "    print(i)"
   ]
  },
  {
   "cell_type": "code",
   "execution_count": 22,
   "id": "f5c27c92",
   "metadata": {},
   "outputs": [
    {
     "data": {
      "text/plain": [
       "[1, 3, 5, 7, 9]"
      ]
     },
     "execution_count": 22,
     "metadata": {},
     "output_type": "execute_result"
    }
   ],
   "source": [
    "x = [i for i in range(1,10) if i%2==1]\n",
    "x"
   ]
  },
  {
   "cell_type": "code",
   "execution_count": 27,
   "id": "d3454619",
   "metadata": {},
   "outputs": [
    {
     "name": "stdout",
     "output_type": "stream",
     "text": [
      "2 x 1 = 4\n",
      "2 x 2 = 6\n",
      "2 x 3 = 8\n",
      "2 x 4 = 10\n",
      "2 x 5 = 12\n",
      "2 x 6 = 14\n",
      "2 x 7 = 16\n",
      "2 x 8 = 18\n",
      "2 x 9 = 20\n"
     ]
    },
    {
     "ename": "IndexError",
     "evalue": "list index out of range",
     "output_type": "error",
     "traceback": [
      "\u001b[1;31m---------------------------------------------------------------------------\u001b[0m",
      "\u001b[1;31mIndexError\u001b[0m                                Traceback (most recent call last)",
      "\u001b[1;32m<ipython-input-27-5b755da55a5f>\u001b[0m in \u001b[0;36m<module>\u001b[1;34m\u001b[0m\n\u001b[0;32m      1\u001b[0m \u001b[0mh\u001b[0m\u001b[1;33m=\u001b[0m \u001b[1;33m[\u001b[0m\u001b[0mx\u001b[0m\u001b[1;33m*\u001b[0m\u001b[1;36m2\u001b[0m \u001b[1;32mfor\u001b[0m \u001b[0mx\u001b[0m \u001b[1;32min\u001b[0m \u001b[0mrange\u001b[0m\u001b[1;33m(\u001b[0m\u001b[1;36m1\u001b[0m\u001b[1;33m,\u001b[0m\u001b[1;36m11\u001b[0m\u001b[1;33m)\u001b[0m\u001b[1;33m]\u001b[0m\u001b[1;33m\u001b[0m\u001b[1;33m\u001b[0m\u001b[0m\n\u001b[0;32m      2\u001b[0m \u001b[1;32mfor\u001b[0m \u001b[0mi\u001b[0m \u001b[1;32min\u001b[0m \u001b[0mrange\u001b[0m\u001b[1;33m(\u001b[0m\u001b[1;36m1\u001b[0m\u001b[1;33m,\u001b[0m\u001b[1;36m11\u001b[0m\u001b[1;33m)\u001b[0m\u001b[1;33m:\u001b[0m\u001b[1;33m\u001b[0m\u001b[1;33m\u001b[0m\u001b[0m\n\u001b[1;32m----> 3\u001b[1;33m     \u001b[0mprint\u001b[0m\u001b[1;33m(\u001b[0m\u001b[1;34m'2 x '\u001b[0m \u001b[1;33m+\u001b[0m \u001b[0mstr\u001b[0m\u001b[1;33m(\u001b[0m\u001b[0mi\u001b[0m\u001b[1;33m)\u001b[0m \u001b[1;33m+\u001b[0m \u001b[1;34m' = '\u001b[0m \u001b[1;33m+\u001b[0m \u001b[0mstr\u001b[0m\u001b[1;33m(\u001b[0m\u001b[0mh\u001b[0m\u001b[1;33m[\u001b[0m\u001b[0mi\u001b[0m\u001b[1;33m]\u001b[0m\u001b[1;33m)\u001b[0m\u001b[1;33m)\u001b[0m\u001b[1;33m\u001b[0m\u001b[1;33m\u001b[0m\u001b[0m\n\u001b[0m",
      "\u001b[1;31mIndexError\u001b[0m: list index out of range"
     ]
    }
   ],
   "source": [
    "h= [x*2 for x in range(1,11)]\n",
    "for i in range(1,11):\n",
    "    print('2 x ' + str(i) + ' = ' + str(h[i]))"
   ]
  },
  {
   "cell_type": "code",
   "execution_count": 30,
   "id": "b43ac19d",
   "metadata": {},
   "outputs": [
    {
     "name": "stdout",
     "output_type": "stream",
     "text": [
      "{1: 'a', 2: 'b', 3: 'c', 4: 'd', 5: 'e', 6: 'f', 7: 'g'}\n"
     ]
    }
   ],
   "source": [
    "list1 = [1,2,3,4,5,6,7] #keys\n",
    "list2 = [\"a\",\"b\",\"c\",\"d\",\"e\",\"f\",\"g\"] #values\n",
    "# combine two lists into a dictionary\n",
    "d = {list1[i]:list2[i] for i in range(len(list1))}\n",
    "print(d)"
   ]
  },
  {
   "cell_type": "code",
   "execution_count": 2,
   "id": "02822665",
   "metadata": {},
   "outputs": [
    {
     "name": "stdout",
     "output_type": "stream",
     "text": [
      "{1: 'a', 2: 'b', 3: 'c', 4: 'd', 5: 'e'}\n"
     ]
    }
   ],
   "source": [
    "lst1=[1 , 2 , 3 , 4 , 5]\n",
    "lst2=['a' , 'b' , 'c' , 'd' , 'e']\n",
    "res={}\n",
    "for key in lst1:\n",
    "    for value in lst2:\n",
    "        res[key] = value\n",
    "        lst2.remove(value)\n",
    "        break\n",
    "print(res)\n"
   ]
  },
  {
   "cell_type": "code",
   "execution_count": 44,
   "id": "a5a9cdd3",
   "metadata": {},
   "outputs": [
    {
     "data": {
      "text/plain": [
       "{1: 'a', 2: 'b', 3: 'c', 4: 'd', 5: 'e'}"
      ]
     },
     "execution_count": 44,
     "metadata": {},
     "output_type": "execute_result"
    }
   ],
   "source": [
    "lst1=[1 , 2 , 3 , 4 , 5]\n",
    "lst2=['a' , 'b' , 'c' , 'd' , 'e']\n",
    "res = dict(zip(lst1,lst2)) #zip is a constructor which create lst in object (google)\n",
    "res"
   ]
  },
  {
   "cell_type": "code",
   "execution_count": 45,
   "id": "b33685fc",
   "metadata": {},
   "outputs": [
    {
     "name": "stdout",
     "output_type": "stream",
     "text": [
      "Enter your name: laiba\n",
      "Enter your number: 03003745525\n",
      "{'laiba': 3003745525}\n"
     ]
    }
   ],
   "source": [
    "# name and number as key and value in dictionary with input from user\n",
    "name = input(\"Enter your name: \")\n",
    "number = int(input(\"Enter your number: \"))\n",
    "d = {name:number}\n",
    "print(d)"
   ]
  },
  {
   "cell_type": "code",
   "execution_count": 1,
   "id": "cd286594",
   "metadata": {},
   "outputs": [
    {
     "name": "stdout",
     "output_type": "stream",
     "text": [
      "4\n"
     ]
    }
   ],
   "source": [
    "list = [\"abc\", \"def\", 4, \"ghi\"] \n",
    "for x in list: \n",
    "    if type(x) == int: \n",
    "        print(x)"
   ]
  },
  {
   "cell_type": "code",
   "execution_count": 4,
   "id": "ef0a1d48",
   "metadata": {},
   "outputs": [
    {
     "name": "stdout",
     "output_type": "stream",
     "text": [
      "[1, 2, 3, 4, 0, 5]\n"
     ]
    }
   ],
   "source": [
    "#Write a program to identify duplicate values from list.\n",
    "lst = [1,2,3,4,0,4,3,5]\n",
    "dup=[]\n",
    "for i in lst:\n",
    "    if i not in dup:\n",
    "        dup.append(i)       \n",
    "print(dup)"
   ]
  },
  {
   "cell_type": "code",
   "execution_count": 5,
   "id": "fec3d976",
   "metadata": {},
   "outputs": [
    {
     "name": "stdout",
     "output_type": "stream",
     "text": [
      "[1, 2, 5]\n"
     ]
    }
   ],
   "source": [
    "a = [1,2,3,2,1,5,6,5,5,5]\n",
    "\n",
    "import collections\n",
    "print([item for item, count in collections.Counter(a).items() if count > 1])\n"
   ]
  },
  {
   "cell_type": "code",
   "execution_count": 45,
   "id": "8b2c6ac9",
   "metadata": {},
   "outputs": [
    {
     "name": "stdout",
     "output_type": "stream",
     "text": [
      "The sum of the dict_values([27, 21, -14]) is 34\n"
     ]
    }
   ],
   "source": [
    "sumDict = { 'a' : 27 , 'b' : 21 , 'c' : -14 } \n",
    "a=(sum(sumDict.values()))\n",
    "b=sumDict.values()\n",
    "print( \"The sum of the \" + str(b) + \" is \" + str(a))"
   ]
  },
  {
   "cell_type": "code",
   "execution_count": null,
   "id": "7d536d00",
   "metadata": {},
   "outputs": [
    {
     "name": "stdout",
     "output_type": "stream",
     "text": [
      "Select operation.\n",
      "1.Add\n",
      "2.Subtract\n",
      "3.Multiply\n",
      "4.Divide\n",
      "Enter choice(1/2/3/4): 5\n",
      "Invalid Input\n",
      "Enter choice(1/2/3/4): 4\n",
      "Enter first number: 5\n",
      "Enter second number: 2\n",
      "5.0 / 2.0 = 2.5\n"
     ]
    }
   ],
   "source": [
    "# Program make a simple calculator\n",
    "\n",
    "# This function adds two numbers\n",
    "def add(x, y):\n",
    "    return x + y\n",
    "\n",
    "# This function subtracts two numbers\n",
    "def subtract(x, y):\n",
    "    return x - y\n",
    "\n",
    "# This function multiplies two numbers\n",
    "def multiply(x, y):\n",
    "    return x * y\n",
    "\n",
    "# This function divides two numbers\n",
    "def divide(x, y):\n",
    "    return x / y\n",
    "\n",
    "\n",
    "print(\"Select operation.\")\n",
    "print(\"1.Add\")\n",
    "print(\"2.Subtract\")\n",
    "print(\"3.Multiply\")\n",
    "print(\"4.Divide\")\n",
    "\n",
    "while True:\n",
    "    # take input from the user\n",
    "    choice = input(\"Enter choice(1/2/3/4): \")\n",
    "\n",
    "    # check if choice is one of the four options\n",
    "    if choice in ('1', '2', '3', '4'):\n",
    "        num1 = float(input(\"Enter first number: \"))\n",
    "        num2 = float(input(\"Enter second number: \"))\n",
    "        \n",
    "        if choice not in ('1', '2', '3', '4'):\n",
    "            print('you entered an invalid number')\n",
    "        if choice == '1':\n",
    "            print(num1, \"+\", num2, \"=\", add(num1, num2))\n",
    "\n",
    "        elif choice == '2':\n",
    "            print(num1, \"-\", num2, \"=\", subtract(num1, num2))\n",
    "\n",
    "        elif choice == '3':\n",
    "            print(num1, \"*\", num2, \"=\", multiply(num1, num2))\n",
    "\n",
    "        elif choice == '4':\n",
    "            print(num1, \"/\", num2, \"=\", divide(num1, num2))\n",
    "        \n",
    "        # check if user wants another calculation\n",
    "        # break the while loop if answer is no\n",
    "        next_calculation = input(\"Let's do next calculation? (yes/no): \")\n",
    "        if next_calculation == \"no\":\n",
    "          break\n",
    "    \n",
    "    else:\n",
    "        print(\"Invalid Input\")"
   ]
  },
  {
   "cell_type": "code",
   "execution_count": 2,
   "id": "fccfdff1",
   "metadata": {},
   "outputs": [
    {
     "name": "stdout",
     "output_type": "stream",
     "text": [
      "Enter marks of student 1 : 98\n",
      "Enter marks of student 2 : 89\n",
      "Enter marks of student 3 : 65\n",
      "Enter marks of student 4 : 26\n",
      "Enter marks of student 5 : 56\n",
      "Enter marks of student 6 : 49\n",
      "Marks of six students are:  [98, 89, 65, 56, 49, 26]\n"
     ]
    }
   ],
   "source": [
    "lim = 1\n",
    "while lim < 6:\n",
    "    marks = []\n",
    "    for x in range(6): \n",
    "        num= [int(input('Enter marks of student ' + str(lim) + ' : '))]\n",
    "        lim +=1\n",
    "        for i in num:\n",
    "            if type(i)==int:\n",
    "                   for i in num:\n",
    "                        marks.append(i)\n",
    "                        marks.sort(reverse=True)\n",
    "                        break;\n",
    "            elif type(i) != int:\n",
    "                  print('please enter your marks without decimal')\n",
    "            else:\n",
    "                 print('invalid input!')\n",
    "                 quit()\n",
    "print('Marks of six students are: ' , marks)"
   ]
  },
  {
   "cell_type": "code",
   "execution_count": 9,
   "id": "6bebb681",
   "metadata": {},
   "outputs": [
    {
     "name": "stdout",
     "output_type": "stream",
     "text": [
      "[5]\n"
     ]
    }
   ],
   "source": [
    "List = [1,2,3,2,1,5,6,5,5,5]\n",
    "a=[]\n",
    "a.append(List.pop())\n",
    "print(a)"
   ]
  },
  {
   "cell_type": "code",
   "execution_count": 10,
   "id": "2fff6361",
   "metadata": {},
   "outputs": [
    {
     "name": "stdout",
     "output_type": "stream",
     "text": [
      " Type 1 for definition \n",
      " Type 2 for feature \n",
      " Type 3 for uses\n",
      " what do you want to know about list?\n",
      " 2\n",
      "List is mutable\n"
     ]
    }
   ],
   "source": [
    "List = ['list is an order sequence of elements' , 'List is mutable' , 'Lists are used to store related data items']\n",
    "print(''' Type 1 for definition \\n Type 2 for feature \\n Type 3 for uses''')\n",
    "inp = int(input(' what do you want to know about list?\\n '))\n",
    "if inp == 1:\n",
    "    print(List[0])\n",
    "elif inp == 2:\n",
    "    print(List[1])\n",
    "elif inp == 3:\n",
    "    print(List[2])\n",
    "else:\n",
    "    print(' Please type 1 or 2 or 3')"
   ]
  },
  {
   "cell_type": "code",
   "execution_count": 11,
   "id": "e64e1a6d",
   "metadata": {},
   "outputs": [
    {
     "name": "stdout",
     "output_type": "stream",
     "text": [
      "['Harry Potter', 'Matilda', 'The Jungle Book']\n",
      "['Harry Potter', 'Matilda', 'The Jungle Book', 'Charlie and the Chocolate factory']\n"
     ]
    }
   ],
   "source": [
    "Books = [ 'Harry Potter' , 'Matilda' , 'The Jungle Book' ]\n",
    "print(Books)\n",
    "Books.append('Charlie and the Chocolate factory')\n",
    "print(Books)"
   ]
  },
  {
   "cell_type": "code",
   "execution_count": 14,
   "id": "b2b0f471",
   "metadata": {},
   "outputs": [
    {
     "name": "stdout",
     "output_type": "stream",
     "text": [
      "['Harry Potter', 'Matilda', 'The Jungle Book', 'Charlie and the chocolate factory']\n"
     ]
    }
   ],
   "source": [
    "Books = ['Harry Potter' , 'Matilda' , 'The Jungle Book' ]\n",
    "Books.append('Charlie and the chocolate factory')\n",
    "print(Books)\n",
    "Books.insert(0,'The Sense of an Ending')"
   ]
  },
  {
   "cell_type": "code",
   "execution_count": null,
   "id": "03990469",
   "metadata": {},
   "outputs": [],
   "source": [
    "for i in range(1,11):\n",
    "    print(\" 2 x \" + str(i) + \" = \" + str(h[i]))"
   ]
  }
 ],
 "metadata": {
  "kernelspec": {
   "display_name": "Python 3",
   "language": "python",
   "name": "python3"
  },
  "language_info": {
   "codemirror_mode": {
    "name": "ipython",
    "version": 3
   },
   "file_extension": ".py",
   "mimetype": "text/x-python",
   "name": "python",
   "nbconvert_exporter": "python",
   "pygments_lexer": "ipython3",
   "version": "3.8.8"
  }
 },
 "nbformat": 4,
 "nbformat_minor": 5
}
